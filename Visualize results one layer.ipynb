{
 "cells": [
  {
   "cell_type": "code",
   "execution_count": null,
   "id": "ce8fbc50",
   "metadata": {},
   "outputs": [],
   "source": [
    "import sys\n",
    "import os\n",
    "\n",
    "import matplotlib.pyplot as plt\n",
    "import matplotlib\n",
    "import pandas as pd\n",
    "import numpy as np"
   ]
  },
  {
   "cell_type": "code",
   "execution_count": null,
   "id": "c85a4847",
   "metadata": {},
   "outputs": [],
   "source": [
    "RESULTS_DIR = \"results/one_layer_results\""
   ]
  },
  {
   "cell_type": "code",
   "execution_count": null,
   "id": "28e7516b",
   "metadata": {},
   "outputs": [],
   "source": [
    "data = pd.read_csv(os.path.join(RESULTS_DIR, 'lgrid.csv'), header=None)\n",
    "print(data.shape)"
   ]
  },
  {
   "cell_type": "code",
   "execution_count": null,
   "id": "991ad3ff",
   "metadata": {},
   "outputs": [],
   "source": [
    "data_arr = data.to_numpy().astype(np.float64)"
   ]
  },
  {
   "cell_type": "code",
   "execution_count": null,
   "id": "207b39b4",
   "metadata": {},
   "outputs": [],
   "source": [
    "lr1 = 0.05\n",
    "lr2 = [0.0001, 0.0002, 0.0005, 0.0008, 0.001, 0.002, 0.005, 0.008, 0.01, 0.02, 0.05, 0.08, 0.1, 0.2, 0.5, 0.8, 1.0, 2.0, 5.0]\n",
    "\n",
    "fig, ax = plt.subplots()\n",
    "\n",
    "# Plot\n",
    "num_samples = 500\n",
    "geo_samples = [int(i) for i in np.geomspace(1, 1000 - 1, num=num_samples)]\n",
    "im = ax.imshow(np.flip(data_arr[:, geo_samples].transpose(), axis=0), interpolation='none', aspect='auto', vmax=1.5, vmin=0)\n",
    "fig.colorbar(im, ax=ax)\n",
    "\n",
    "ax.set_xticks(np.arange(0, data_arr.shape[0], 2))\n",
    "ax.set_xticklabels([round(lr/lr1, 3) for i, lr in enumerate(lr2) if i in np.arange(0, data_arr.shape[0], 2)])\n",
    "\n",
    "ax.set_yticks(np.arange(0, num_samples, 50))\n",
    "ax.set_yticklabels([geo_samples[i] for i in np.arange(num_samples - 1, 0, -50)])\n",
    "\n",
    "plt.suptitle(fr\"$\\eta_{{\\mathbf{{W}}}}={lr1}$\")\n",
    "ax.set_xlabel(r\"$\\eta_{\\mathbf{v}} / \\eta_{\\mathbf{W}}$\")\n",
    "ax.set_ylabel(\"Epoch\")\n",
    "\n",
    "plt.savefig(\"plots/one_layer_im.pdf\")"
   ]
  },
  {
   "cell_type": "code",
   "execution_count": null,
   "id": "e7e93216",
   "metadata": {},
   "outputs": [],
   "source": [
    "fig, ax = plt.subplots()\n",
    "ax.set_xscale('log')\n",
    "\n",
    "for i in np.arange(0, data_arr.shape[0], 2):    \n",
    "    ax.plot(data_arr[i, :], label=fr\"$\\eta_{{\\mathbf{{W}}}}={lr2[i]}$\")\n",
    "\n",
    "ax.set_xlabel(\"Epoch\")\n",
    "ax.set_ylabel(\"MSE\")\n",
    "ax.set_ylim([0, 2])\n",
    "ax.legend(loc=1)\n",
    "\n",
    "plt.suptitle(fr\"$\\eta_{{\\mathbf{{W}}}}={lr1}$\")\n",
    "plt.savefig(\"plots/one_layer_ind.pdf\")"
   ]
  },
  {
   "cell_type": "code",
   "execution_count": null,
   "id": "161e9c07",
   "metadata": {},
   "outputs": [],
   "source": [
    "# \"Removing PCs\"\n",
    "data = pd.read_csv(os.path.join(RESULTS_DIR, 'lgrid_pc.csv'), header=None)\n",
    "print(data.shape)\n",
    "\n",
    "data_arr = data.to_numpy().astype(np.float64)"
   ]
  },
  {
   "cell_type": "code",
   "execution_count": null,
   "id": "4e8d91d7",
   "metadata": {},
   "outputs": [],
   "source": [
    "ll = np.linspace(0.1, 1.9, 19)\n",
    "lr = 0.1\n",
    "\n",
    "fig, ax = plt.subplots()\n",
    "\n",
    "# Plot\n",
    "num_samples = 500\n",
    "geo_samples = [int(i) for i in np.geomspace(1, 1000 - 1, num=num_samples)]\n",
    "im = ax.imshow(np.flip(data_arr[:, geo_samples].transpose(), axis=0), interpolation='none', aspect='auto', vmax=1.5, vmin=0)\n",
    "fig.colorbar(im, ax=ax)\n",
    "\n",
    "ax.set_xticks(np.arange(0, data_arr.shape[0], 2))\n",
    "ax.set_xticklabels([round(l, 1) for i, l in enumerate(ll) if i in np.arange(0, data_arr.shape[0], 2)])\n",
    "\n",
    "ax.set_yticks(np.arange(0, num_samples, 50))\n",
    "ax.set_yticklabels([geo_samples[i] for i in np.arange(num_samples - 1, 0, -50)])\n",
    "\n",
    "plt.suptitle(fr\"$\\eta_{{\\mathbf{{W}}}}={lr}, \\eta_{{\\mathbf{{v}}}}={lr}$\")\n",
    "ax.set_xlabel(r\"Lower $\\lambda$\")\n",
    "ax.set_ylabel(\"Epoch\")\n",
    "\n",
    "plt.savefig(\"plots/one_layer_pcs_im.pdf\")"
   ]
  },
  {
   "cell_type": "code",
   "execution_count": null,
   "id": "cbe31ef0",
   "metadata": {},
   "outputs": [],
   "source": [
    "fig, ax = plt.subplots()\n",
    "ax.set_xscale('log')\n",
    "\n",
    "for i in np.arange(0, data_arr.shape[0], 2):    \n",
    "    ax.plot(data_arr[i, :], label=fr\"Lower $\\lambda={ll[i]}$\")\n",
    "\n",
    "ax.set_xlabel(\"Epoch\")\n",
    "ax.set_ylabel(\"MSE\")\n",
    "ax.set_ylim([0, 2])\n",
    "ax.legend(loc=1)\n",
    "\n",
    "plt.suptitle(fr\"$\\eta_{{\\mathbf{{W}}}}={lr}, \\eta_{{\\mathbf{{v}}}}={lr}$\")\n",
    "plt.savefig(\"plots/one_layer_pcs_ind.pdf\")"
   ]
  },
  {
   "cell_type": "code",
   "execution_count": null,
   "id": "5c720c2d",
   "metadata": {},
   "outputs": [],
   "source": []
  }
 ],
 "metadata": {
  "kernelspec": {
   "display_name": "Python 3",
   "language": "python",
   "name": "python3"
  },
  "language_info": {
   "codemirror_mode": {
    "name": "ipython",
    "version": 3
   },
   "file_extension": ".py",
   "mimetype": "text/x-python",
   "name": "python",
   "nbconvert_exporter": "python",
   "pygments_lexer": "ipython3",
   "version": "3.10.6"
  }
 },
 "nbformat": 4,
 "nbformat_minor": 5
}
