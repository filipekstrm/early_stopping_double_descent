{
 "cells": [
  {
   "cell_type": "markdown",
   "metadata": {},
   "source": [
    "##  Sum of bias-variance tradeoffs\n",
    "This notebook contains the relevant code for the following figures in the paper \"*Early stopping in deep networks: Double descent and how to eliminate it*\":\n",
    "\n",
    "- Figure 2"
   ]
  },
  {
   "cell_type": "code",
   "execution_count": 3,
   "metadata": {},
   "outputs": [],
   "source": [
    "import numpy as np\n",
    "import matplotlib as mpl\n",
    "mpl.use('tkagg')\n",
    "from scipy.stats import ortho_group\n",
    "from tqdm import tqdm\n",
    "import matplotlib.pyplot as plt\n",
    "\n",
    "np.random.seed(1234)"
   ]
  },
  {
   "cell_type": "code",
   "execution_count": 4,
   "metadata": {},
   "outputs": [],
   "source": [
    "def get_modulation_matrix(d, p, k):\n",
    "    U = ortho_group.rvs(d)\n",
    "    VT = ortho_group.rvs(d)\n",
    "    S = np.eye(d)\n",
    "    S[:p, :p] *= 1\n",
    "    S[p:, p:] *= 1 / k\n",
    "    F = np.dot(U, np.dot(S, VT))\n",
    "    return F\n",
    "\n",
    "\n",
    "# Implements the teacher and generates the data\n",
    "def get_data(seed, n, d, p, k, noise):\n",
    "    np.random.seed(seed)\n",
    "    Z = np.random.randn(n, d) / np.sqrt(d)\n",
    "    Z_test = np.random.randn(1000, d) / np.sqrt(d)\n",
    "\n",
    "    # teacher\n",
    "    w = np.random.randn(d, 1)\n",
    "    y = np.dot(Z, w)\n",
    "    y = y + noise * np.random.randn(*y.shape)\n",
    "    # test data is noiseless\n",
    "    y_test = np.dot(Z_test, w)\n",
    "\n",
    "    # the modulation matrix that controls students access to the data\n",
    "    F = get_modulation_matrix(d, p, k)\n",
    "\n",
    "    # X = F^T Z\n",
    "    X = np.dot(Z, F)\n",
    "    X_test = np.dot(Z_test, F)\n",
    "\n",
    "    return X, y, X_test, y_test, F, w\n",
    "\n",
    "\n",
    "def get_RQ(w_hat, F, w, d):\n",
    "    # R: the alignment between the teacher and the student\n",
    "    R = np.dot(np.dot(F, w_hat).T, w).item() / d\n",
    "    # Q: the student's modulated norm\n",
    "    Q = np.dot(np.dot(F, w_hat).T, np.dot(F, w_hat)).item() / d\n",
    "    return R, Q"
   ]
  },
  {
   "cell_type": "code",
   "execution_count": 5,
   "metadata": {},
   "outputs": [],
   "source": [
    "d = 100\n",
    "# p: number of fast learning dimensions\n",
    "p = 70\n",
    "# k: kappa -> the condition number of the modulation matrix, F\n",
    "k = 100\n",
    "# standard deviation of the noise added to the teacher output\n",
    "noise = 0.0\n",
    "# L2 regularization coefficient\n",
    "l2 = 0.0"
   ]
  },
  {
   "cell_type": "code",
   "execution_count": null,
   "metadata": {},
   "outputs": [],
   "source": [
    "F = get_modulation_matrix()"
   ]
  }
 ],
 "metadata": {
  "kernelspec": {
   "display_name": "Python 3",
   "language": "python",
   "name": "python3"
  },
  "language_info": {
   "codemirror_mode": {
    "name": "ipython",
    "version": 3
   },
   "file_extension": ".py",
   "mimetype": "text/x-python",
   "name": "python",
   "nbconvert_exporter": "python",
   "pygments_lexer": "ipython3",
   "version": "3.10.6"
  }
 },
 "nbformat": 4,
 "nbformat_minor": 2
}
